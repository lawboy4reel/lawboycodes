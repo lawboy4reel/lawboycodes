{
 "cells": [
  {
   "cell_type": "code",
   "execution_count": 87,
   "metadata": {
    "collapsed": true
   },
   "outputs": [],
   "source": [
    "# v1 = \"first string\"\n",
    "# v2 = \"second string\""
   ]
  },
  {
   "cell_type": "code",
   "execution_count": 88,
   "metadata": {
    "collapsed": true
   },
   "outputs": [],
   "source": [
    "# temp = v1\n",
    "# v1 = v2\n",
    "# v2 = temp\n",
    "# print(v1)\n",
    "# print(v2)"
   ]
  },
  {
   "cell_type": "code",
   "execution_count": 89,
   "metadata": {},
   "outputs": [],
   "source": [
    "# bag_brand = \"louis vuiton\"\n",
    "# bag_quantity = 5000\n",
    "# bag_price = 50000.00\n",
    "# availability = True\n",
    "\n",
    "# print(bag_brand)\n",
    "# print(bag_quantity)\n",
    "# print(bag_price)\n",
    "# print(availability)\n"
   ]
  },
  {
   "cell_type": "code",
   "execution_count": 90,
   "metadata": {},
   "outputs": [],
   "source": [
    "# name1 = input(\"first_name:\")\n",
    "# name2 = input(\"second_name:\")\n",
    "# surname = input(\"surname:\")\n",
    "\n",
    "# print(name1)\n",
    "# print(name2)\n",
    "# print(surname)\n",
    "# print(name1  + name2 + surname)"
   ]
  },
  {
   "cell_type": "code",
   "execution_count": 91,
   "metadata": {},
   "outputs": [
    {
     "name": "stdout",
     "output_type": "stream",
     "text": [
      "22\n",
      "<class 'int'>\n",
      "this is a string\n",
      "<class 'str'>\n"
     ]
    }
   ],
   "source": [
    "x = 22\n",
    "print(x)\n",
    "print(type(x))\n",
    "x = \"this is a string\"\n",
    "print(x)\n",
    "print(type(x))"
   ]
  }
 ],
 "metadata": {
  "kernelspec": {
   "display_name": "Python 3.11.0 64-bit",
   "language": "python",
   "name": "python3"
  },
  "language_info": {
   "codemirror_mode": {
    "name": "ipython",
    "version": 3
   },
   "file_extension": ".py",
   "mimetype": "text/x-python",
   "name": "python",
   "nbconvert_exporter": "python",
   "pygments_lexer": "ipython3",
   "version": "3.11.0"
  },
  "vscode": {
   "interpreter": {
    "hash": "ed34444197f0249dd702af3dc0ab7370e0b4c615f4323b5cb2b4fa86931a75b9"
   }
  }
 },
 "nbformat": 4,
 "nbformat_minor": 2
}
